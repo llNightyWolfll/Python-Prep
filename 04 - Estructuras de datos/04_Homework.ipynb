{
 "cells": [
  {
   "attachments": {},
   "cell_type": "markdown",
   "metadata": {},
   "source": [
    "Crear una lista que contenga nombres de ciudades del mundo que contenga más de 5 elementos e imprimir por pantalla"
   ]
  },
  {
   "cell_type": "code",
   "execution_count": 3,
   "metadata": {},
   "outputs": [
    {
     "name": "stdout",
     "output_type": "stream",
     "text": [
      "<class 'list'>\n",
      "Leon\n",
      "Irapuato\n",
      "Guanajuato\n",
      "Salamanca\n",
      "Nuevos Aires\n"
     ]
    }
   ],
   "source": [
    "mi_list = ['Leon', 'Irapuato', 'Guanajuato', 'Salamanca', 'Nuevos Aires']\n",
    "\n",
    "print(type(mi_list))\n",
    "print('chale, esto es una modificacion para git')\n",
    "for n in range(0,5):\n",
    "    print(mi_list[n])"
   ]
  },
  {
   "attachments": {},
   "cell_type": "markdown",
   "metadata": {},
   "source": [
    "Imprimir por pantalla el segundo elemento de la lista"
   ]
  },
  {
   "cell_type": "code",
   "execution_count": 4,
   "metadata": {},
   "outputs": [
    {
     "name": "stdout",
     "output_type": "stream",
     "text": [
      "Irapuato\n"
     ]
    }
   ],
   "source": [
    "\n",
    "print(mi_list[1])"
   ]
  },
  {
   "attachments": {},
   "cell_type": "markdown",
   "metadata": {},
   "source": [
    "Imprimir por pantalla del segundo al cuarto elemento"
   ]
  },
  {
   "cell_type": "code",
   "execution_count": 5,
   "metadata": {},
   "outputs": [
    {
     "name": "stdout",
     "output_type": "stream",
     "text": [
      "['Irapuato', 'Guanajuato']\n"
     ]
    }
   ],
   "source": [
    "print(mi_list[1:3])"
   ]
  },
  {
   "attachments": {},
   "cell_type": "markdown",
   "metadata": {},
   "source": [
    "Visualizar el tipo de dato de la lista"
   ]
  },
  {
   "cell_type": "code",
   "execution_count": 6,
   "metadata": {},
   "outputs": [
    {
     "name": "stdout",
     "output_type": "stream",
     "text": [
      "<class 'list'>\n"
     ]
    }
   ],
   "source": [
    "print(type(mi_list))"
   ]
  },
  {
   "attachments": {},
   "cell_type": "markdown",
   "metadata": {},
   "source": [
    "Visualizar todos los elementos de la lista a partir del tercero de manera genérica, es decir, sin explicitar la posición del último elemento"
   ]
  },
  {
   "cell_type": "code",
   "execution_count": 7,
   "metadata": {},
   "outputs": [
    {
     "name": "stdout",
     "output_type": "stream",
     "text": [
      "['Guanajuato', 'Salamanca', 'Nuevos Aires']\n"
     ]
    }
   ],
   "source": [
    "print(mi_list[2:])"
   ]
  },
  {
   "attachments": {},
   "cell_type": "markdown",
   "metadata": {},
   "source": [
    "Visualizar los primeros 4 elementos de la lista"
   ]
  },
  {
   "cell_type": "code",
   "execution_count": 13,
   "metadata": {},
   "outputs": [
    {
     "name": "stdout",
     "output_type": "stream",
     "text": [
      "['Leon', 'Irapuato', 'Guanajuato', 'Salamanca']\n"
     ]
    }
   ],
   "source": [
    "print(mi_list[:4])\n"
   ]
  },
  {
   "attachments": {},
   "cell_type": "markdown",
   "metadata": {},
   "source": [
    "Agregar una ciudad más a la lista que ya exista y otra que no ¿Arroja algún tipo de error?"
   ]
  },
  {
   "cell_type": "code",
   "execution_count": 16,
   "metadata": {},
   "outputs": [
    {
     "name": "stdout",
     "output_type": "stream",
     "text": [
      "['Leon', 'Irapuato', 'Guanajuato', 'Salamanca', 'Nuevos Aires', 'Leon', 'Ciudad Juarez', 'Leon', 'Ciudad Juarez', 'Leon', 'Ciudad Juarez', 'Leon', 'Ciudad Juarez', 'Leon', 'Ciudad Juarez', 'Leon', 'Ciudad Juarez']\n"
     ]
    }
   ],
   "source": [
    "#No tira error, unicamente va agregando los datos de manera continua\n",
    "\n",
    "mi_list.append('Leon')\n",
    "mi_list.append('Ciudad Juarez')\n",
    "\n",
    "print(mi_list)"
   ]
  },
  {
   "attachments": {},
   "cell_type": "markdown",
   "metadata": {},
   "source": [
    "Agregar otra ciudad, pero en la cuarta posición"
   ]
  },
  {
   "cell_type": "code",
   "execution_count": 18,
   "metadata": {},
   "outputs": [
    {
     "name": "stdout",
     "output_type": "stream",
     "text": [
      "['Leon', 'Irapuato', 'Ciudad Gotica', 'Ciudad Gotica', 'Guanajuato', 'Salamanca', 'Nuevos Aires', 'Leon', 'Ciudad Juarez', 'Leon', 'Ciudad Juarez', 'Leon', 'Ciudad Juarez', 'Leon', 'Ciudad Juarez', 'Leon', 'Ciudad Juarez', 'Leon', 'Ciudad Juarez']\n"
     ]
    }
   ],
   "source": [
    "mi_list.insert(2,'Ciudad Gotica')\n",
    "print(mi_list)"
   ]
  },
  {
   "attachments": {},
   "cell_type": "markdown",
   "metadata": {},
   "source": [
    "Concatenar otra lista a la ya creada"
   ]
  },
  {
   "cell_type": "code",
   "execution_count": 19,
   "metadata": {},
   "outputs": [
    {
     "name": "stdout",
     "output_type": "stream",
     "text": [
      "['Leon', 'Irapuato', 'Ciudad Gotica', 'Ciudad Gotica', 'Guanajuato', 'Salamanca', 'Nuevos Aires', 'Leon', 'Ciudad Juarez', 'Leon', 'Ciudad Juarez', 'Leon', 'Ciudad Juarez', 'Leon', 'Ciudad Juarez', 'Leon', 'Ciudad Juarez', 'Leon', 'Ciudad Juarez', 'Chihuahua', 'Medellin', 'Cartajena', 'Cortazar']\n"
     ]
    }
   ],
   "source": [
    "#Concatenar, seria unir dos listas existentes.\n",
    "mi_sec_list = ['Chihuahua', 'Medellin' , 'Cartajena' , 'Cortazar' ]\n",
    "\n",
    "new_list =  mi_list + mi_sec_list \n",
    "print(new_list)\n",
    "\n"
   ]
  },
  {
   "attachments": {},
   "cell_type": "markdown",
   "metadata": {},
   "source": [
    "Encontrar el índice de la ciudad que en el punto 7 agregamos duplicada. ¿Se nota alguna particularidad?"
   ]
  },
  {
   "cell_type": "code",
   "execution_count": 22,
   "metadata": {},
   "outputs": [
    {
     "name": "stdout",
     "output_type": "stream",
     "text": [
      "21\n"
     ]
    }
   ],
   "source": [
    "print(new_list.index('Cartajena'))"
   ]
  },
  {
   "attachments": {},
   "cell_type": "markdown",
   "metadata": {},
   "source": [
    "¿Qué pasa si se busca un elemento que no existe?"
   ]
  },
  {
   "cell_type": "code",
   "execution_count": 23,
   "metadata": {},
   "outputs": [
    {
     "ename": "ValueError",
     "evalue": "'Cartajna' is not in list",
     "output_type": "error",
     "traceback": [
      "\u001b[1;31m---------------------------------------------------------------------------\u001b[0m",
      "\u001b[1;31mValueError\u001b[0m                                Traceback (most recent call last)",
      "Cell \u001b[1;32mIn[23], line 1\u001b[0m\n\u001b[1;32m----> 1\u001b[0m \u001b[39mprint\u001b[39m(new_list\u001b[39m.\u001b[39;49mindex(\u001b[39m'\u001b[39;49m\u001b[39mCartajna\u001b[39;49m\u001b[39m'\u001b[39;49m))\n",
      "\u001b[1;31mValueError\u001b[0m: 'Cartajna' is not in list"
     ]
    }
   ],
   "source": [
    "print(new_list.index('Cartajna'))\n",
    "\n",
    "# Arroja un error de que el objeto buscado no se encuentra en la lista."
   ]
  },
  {
   "attachments": {},
   "cell_type": "markdown",
   "metadata": {},
   "source": [
    "Eliminar un elemento de la lista"
   ]
  },
  {
   "cell_type": "code",
   "execution_count": 32,
   "metadata": {},
   "outputs": [
    {
     "ename": "ValueError",
     "evalue": "list.remove(x): x not in list",
     "output_type": "error",
     "traceback": [
      "\u001b[1;31m---------------------------------------------------------------------------\u001b[0m",
      "\u001b[1;31mValueError\u001b[0m                                Traceback (most recent call last)",
      "Cell \u001b[1;32mIn[32], line 1\u001b[0m\n\u001b[1;32m----> 1\u001b[0m mi_list\u001b[39m.\u001b[39;49mremove(\u001b[39m'\u001b[39;49m\u001b[39mLeon\u001b[39;49m\u001b[39m'\u001b[39;49m)\n\u001b[0;32m      2\u001b[0m \u001b[39mprint\u001b[39m(mi_list)\n\u001b[0;32m      4\u001b[0m \u001b[39m#Unicamente borra el primer dato que coincida con la busqueda\u001b[39;00m\n",
      "\u001b[1;31mValueError\u001b[0m: list.remove(x): x not in list"
     ]
    }
   ],
   "source": [
    "mi_list.remove('Leon')\n",
    "print(mi_list)\n",
    "\n",
    "#Unicamente borra el primer dato que coincida con la busqueda\n",
    "# Como ya se elimino, no hay mas valores que cumplan con la condicion, por siguiente tirara error."
   ]
  },
  {
   "attachments": {},
   "cell_type": "markdown",
   "metadata": {},
   "source": [
    "Extraer el úlimo elemento de la lista, guardarlo en una variable e imprimirlo"
   ]
  },
  {
   "cell_type": "code",
   "execution_count": 33,
   "metadata": {},
   "outputs": [
    {
     "name": "stdout",
     "output_type": "stream",
     "text": [
      "Ciudad Juarez\n"
     ]
    }
   ],
   "source": [
    "last_value = mi_list.pop()\n",
    "print(last_value)"
   ]
  },
  {
   "attachments": {},
   "cell_type": "markdown",
   "metadata": {},
   "source": [
    "Mostrar la lista multiplicada por 4"
   ]
  },
  {
   "cell_type": "code",
   "execution_count": 34,
   "metadata": {},
   "outputs": [
    {
     "name": "stdout",
     "output_type": "stream",
     "text": [
      "['Irapuato', 'Ciudad Gotica', 'Ciudad Gotica', 'Guanajuato', 'Salamanca', 'Nuevos Aires', 'Ciudad Juarez', 'Ciudad Juarez', 'Ciudad Juarez', 'Ciudad Juarez', 'Ciudad Juarez', 'Irapuato', 'Ciudad Gotica', 'Ciudad Gotica', 'Guanajuato', 'Salamanca', 'Nuevos Aires', 'Ciudad Juarez', 'Ciudad Juarez', 'Ciudad Juarez', 'Ciudad Juarez', 'Ciudad Juarez', 'Irapuato', 'Ciudad Gotica', 'Ciudad Gotica', 'Guanajuato', 'Salamanca', 'Nuevos Aires', 'Ciudad Juarez', 'Ciudad Juarez', 'Ciudad Juarez', 'Ciudad Juarez', 'Ciudad Juarez', 'Irapuato', 'Ciudad Gotica', 'Ciudad Gotica', 'Guanajuato', 'Salamanca', 'Nuevos Aires', 'Ciudad Juarez', 'Ciudad Juarez', 'Ciudad Juarez', 'Ciudad Juarez', 'Ciudad Juarez']\n"
     ]
    }
   ],
   "source": [
    "print(mi_list*4)"
   ]
  },
  {
   "attachments": {},
   "cell_type": "markdown",
   "metadata": {},
   "source": [
    "Crear una tupla que contenga los números enteros del 1 al 20"
   ]
  },
  {
   "cell_type": "code",
   "execution_count": 35,
   "metadata": {},
   "outputs": [
    {
     "name": "stdout",
     "output_type": "stream",
     "text": [
      "<class 'tuple'>\n",
      "(1, 2, 3, 4, 5, 6, 7, 8, 9, 10, 11, 12, 13, 14, 15, 16, 17, 18, 19, 20)\n"
     ]
    }
   ],
   "source": [
    "numbers = range(1,21)\n",
    "\n",
    "tup = tuple(numbers)\n",
    "\n",
    "print(type(tup))\n",
    "print(tup)\n"
   ]
  },
  {
   "attachments": {},
   "cell_type": "markdown",
   "metadata": {},
   "source": [
    "Imprimir desde el índice 10 al 15 de la tupla"
   ]
  },
  {
   "cell_type": "code",
   "execution_count": 37,
   "metadata": {},
   "outputs": [
    {
     "name": "stdout",
     "output_type": "stream",
     "text": [
      "(10, 11, 12, 13, 14, 15, 16, 17, 18, 19, 20)\n"
     ]
    }
   ],
   "source": [
    "print(tup[9:])"
   ]
  },
  {
   "attachments": {},
   "cell_type": "markdown",
   "metadata": {},
   "source": [
    "Evaluar si los números 20 y 30 están dentro de la tupla\n"
   ]
  },
  {
   "cell_type": "code",
   "execution_count": 40,
   "metadata": {},
   "outputs": [
    {
     "name": "stdout",
     "output_type": "stream",
     "text": [
      "1\n",
      "0\n"
     ]
    }
   ],
   "source": [
    "x = tup.count(20)\n",
    "print(x)\n",
    "y = tup.count(30)\n",
    "print(y)"
   ]
  },
  {
   "attachments": {},
   "cell_type": "markdown",
   "metadata": {},
   "source": [
    "Con la lista creada en el punto 1, validar la existencia del elemento 'París' y si no existe, agregarlo. Utilizar una variable e informar lo sucedido."
   ]
  },
  {
   "cell_type": "code",
   "execution_count": 49,
   "metadata": {},
   "outputs": [
    {
     "name": "stdout",
     "output_type": "stream",
     "text": [
      "la ciudad de París se encuentra 9 veces  en el(los) indice(s) 11\n"
     ]
    }
   ],
   "source": [
    "mi_list.append('París')\n",
    "count = mi_list.count('París')\n",
    "idx = mi_list.index('París')\n",
    "print(f'la ciudad de París se encuentra {count} veces  en el(los) indice(s) {idx}')\n",
    "count = 0 # Reseteo\n"
   ]
  },
  {
   "attachments": {},
   "cell_type": "markdown",
   "metadata": {},
   "source": [
    "Mostrar la cantidad de veces que se encuentra un elemento específico dentro de la tupla y de la lista"
   ]
  },
  {
   "cell_type": "code",
   "execution_count": 51,
   "metadata": {},
   "outputs": [
    {
     "name": "stdout",
     "output_type": "stream",
     "text": [
      "6\n",
      "5\n",
      "1\n"
     ]
    }
   ],
   "source": [
    "Cou_List = mi_list.count('Ciudad Juarez')\n",
    "Idx_List = mi_list.index('Ciudad Juarez')\n",
    "Cou_Tup = tup.count(2)\n",
    "\n",
    "\n",
    "print(Idx_List)\n",
    "print(Cou_List)\n",
    "print(Cou_Tup)\n",
    "    \n",
    "#investigar como obtener todos los valores donde se encuentra el indice."
   ]
  },
  {
   "attachments": {},
   "cell_type": "markdown",
   "metadata": {},
   "source": [
    "Convertir la tupla en una lista"
   ]
  },
  {
   "cell_type": "code",
   "execution_count": 53,
   "metadata": {},
   "outputs": [
    {
     "name": "stdout",
     "output_type": "stream",
     "text": [
      "<class 'tuple'>\n",
      "(2, 'Hola', 'Mariano', 'Esta buena', 23, 'quien')\n",
      "<class 'list'>\n",
      "[2, 'Hola', 'Mariano', 'Esta buena', 23, 'quien']\n"
     ]
    }
   ],
   "source": [
    "tup_2 = 2,'Hola','Mariano','Esta buena', 23, 'quien'\n",
    "print(type(tup_2))\n",
    "\n",
    "print(tup_2)\n",
    "\n",
    "new_list = list(tup_2)\n",
    "\n",
    "print(type(new_list))\n",
    "\n",
    "print(new_list)"
   ]
  },
  {
   "attachments": {},
   "cell_type": "markdown",
   "metadata": {},
   "source": [
    "Desempaquetar solo los primeros 3 elementos de la tupla en 3 variables"
   ]
  },
  {
   "cell_type": "code",
   "execution_count": 58,
   "metadata": {},
   "outputs": [
    {
     "name": "stdout",
     "output_type": "stream",
     "text": [
      "hola me llamo Mariano tengo 2 y saludo de diciendo Hola\n"
     ]
    }
   ],
   "source": [
    "## No logro entender lo que quiere, revisar en el siguiente video.\n",
    "tup_2 = 2,'Hola','Mariano'\n",
    "\n",
    "numero, saludo, nombre = tup_2\n",
    "\n",
    "print(f'hola me llamo {nombre} tengo {numero} y saludo de diciendo {saludo}')\n",
    "\n",
    "\n",
    "# El tamano de la tupla y aquello que desempaquetamos deben ser de las mismas dimensiones."
   ]
  },
  {
   "attachments": {},
   "cell_type": "markdown",
   "metadata": {},
   "source": [
    "Crear un diccionario utilizando la lista crada en el punto 1, asignandole la clave \"ciudad\". Agregar tambien otras claves, como puede ser \"Pais\" y \"Continente\"."
   ]
  },
  {
   "cell_type": "code",
   "execution_count": 59,
   "metadata": {},
   "outputs": [
    {
     "name": "stdout",
     "output_type": "stream",
     "text": [
      "<class 'dict'>\n"
     ]
    }
   ],
   "source": [
    "dic = {\n",
    "    'ciudad' : ['Leon','Salamaca','Nuevo Leon','Ciudad Juarez'],\n",
    "    'pais' : ['Mexico','Estados Unidos', 'Reino Unido'],\n",
    "    'Codigo_Postal' : 29092\n",
    "\n",
    "}\n",
    "\n",
    "print(type(dic))"
   ]
  },
  {
   "attachments": {},
   "cell_type": "markdown",
   "metadata": {},
   "source": [
    "Imprimir las claves del diccionario"
   ]
  },
  {
   "cell_type": "code",
   "execution_count": 65,
   "metadata": {},
   "outputs": [
    {
     "name": "stdout",
     "output_type": "stream",
     "text": [
      "Nuevo Leon\n",
      "['Mexico', 'Estados Unidos', 'Reino Unido']\n",
      "29092\n"
     ]
    }
   ],
   "source": [
    "print(dic['ciudad'][2])\n",
    "print(dic['pais'])\n",
    "print(dic['Codigo_Postal'])"
   ]
  },
  {
   "attachments": {},
   "cell_type": "markdown",
   "metadata": {},
   "source": [
    "Imprimir las ciudades a través de su clave"
   ]
  },
  {
   "cell_type": "code",
   "execution_count": 66,
   "metadata": {},
   "outputs": [
    {
     "name": "stdout",
     "output_type": "stream",
     "text": [
      "['Leon', 'Salamaca', 'Nuevo Leon', 'Ciudad Juarez']\n"
     ]
    }
   ],
   "source": [
    "print(dic['ciudad'])\n"
   ]
  },
  {
   "attachments": {},
   "cell_type": "markdown",
   "metadata": {},
   "source": [
    "Comentarios que surgieron durante la practica:"
   ]
  },
  {
   "attachments": {},
   "cell_type": "markdown",
   "metadata": {},
   "source": [
    "Por que no usar dos veces una sentencia if, en caso de que no sea necesaria:\n",
    "\n",
    "Usar dos sentencias \"if\" seguidas puede llevar a una complejidad innecesaria y reducir la eficiencia de tu código. Esto se debe a que cada sentencia \"if\" requiere que el ordenador evalúe una condición, y si la condición es verdadera, ejecute el código asociado. Si tienes dos sentencias \"if\" consecutivas, el ordenador tiene que evaluar ambas condiciones, incluso si la primera es falsa, lo que puede desperdiciar energía de procesamiento y ralentizar tu programa.\n",
    "\n",
    "Además, si las condiciones están relacionadas o son dependientes entre sí, el uso de sentencias \"if\" separadas puede llevar a errores y confusiones. En estos casos, a menudo es mejor usar sentencias \"if-else\" o combinar las condiciones utilizando operadores lógicos como \"y\" o \"o\" para crear una sola sentencia condicional más eficiente."
   ]
  }
 ],
 "metadata": {
  "kernelspec": {
   "display_name": "Python 3",
   "language": "python",
   "name": "python3"
  },
  "language_info": {
   "codemirror_mode": {
    "name": "ipython",
    "version": 3
   },
   "file_extension": ".py",
   "mimetype": "text/x-python",
   "name": "python",
   "nbconvert_exporter": "python",
   "pygments_lexer": "ipython3",
   "version": "3.11.2"
  },
  "orig_nbformat": 4
 },
 "nbformat": 4,
 "nbformat_minor": 2
}
