{
 "cells": [
  {
   "attachments": {},
   "cell_type": "markdown",
   "metadata": {},
   "source": [
    "A partir de una lista vacía, utilizar un ciclo while para cargar allí números negativos del -15 al -1"
   ]
  },
  {
   "cell_type": "code",
   "execution_count": 28,
   "metadata": {},
   "outputs": [
    {
     "name": "stdout",
     "output_type": "stream",
     "text": [
      "[-1, -2, -3, -4, -5, -6, -7, -8, -9, -10, -11, -12, -13, -14, -15]\n"
     ]
    }
   ],
   "source": [
    "lista = [] # lista vacia.\n",
    "ban_pass = False # Bandera de paso\n",
    "var_count = 0\n",
    "\n",
    "while ban_pass == False:\n",
    "    var_count -=1\n",
    "    lista.append(var_count)\n",
    "    if(var_count == -15):\n",
    "        break\n",
    "    else:\n",
    "        continue\n",
    "\n",
    "print(lista)\n"
   ]
  },
  {
   "cell_type": "code",
   "execution_count": 21,
   "metadata": {},
   "outputs": [
    {
     "name": "stdout",
     "output_type": "stream",
     "text": [
      "<class 'list'>\n",
      "<class 'range'>\n",
      "range(1, 16)\n",
      "[-1, -2, -3, -4, -5, -6, -7, -8, -9, -10, -11, -12, -13, -14, -15]\n"
     ]
    }
   ],
   "source": [
    "ran  = range(1,16)\n",
    "lista = []\n",
    "\n",
    "print(type(lista))\n",
    "print(type(ran))\n",
    "print(ran)\n",
    "\n",
    "for i in ran:\n",
    "    lista.append(-1*i)\n",
    "print(lista)\n"
   ]
  },
  {
   "attachments": {},
   "cell_type": "markdown",
   "metadata": {},
   "source": [
    "¿Con un ciclo while sería posible recorrer la lista para imprimir sólo los números pares?"
   ]
  },
  {
   "cell_type": "code",
   "execution_count": 46,
   "metadata": {},
   "outputs": [
    {
     "name": "stdout",
     "output_type": "stream",
     "text": [
      "15\n",
      "El valor, -1 es impar\n",
      "El valor, -2 es par\n",
      "El valor, -3 es impar\n",
      "El valor, -4 es par\n",
      "El valor, -5 es impar\n",
      "El valor, -6 es par\n",
      "El valor, -7 es impar\n",
      "El valor, -8 es par\n",
      "El valor, -9 es impar\n",
      "El valor, -10 es par\n",
      "El valor, -11 es impar\n",
      "El valor, -12 es par\n",
      "El valor, -13 es impar\n",
      "El valor, -14 es par\n",
      "El valor, -15 es impar\n"
     ]
    }
   ],
   "source": [
    "#Todo es posible si lo imaginas, haha.\n",
    "\n",
    "# Se usara la lista de arriba en rango -1 a -15\n",
    "\n",
    "ban_2 = False\n",
    "val_count_2 = 0\n",
    "\n",
    "#calcular el valor de la long, de la lista\n",
    "val_len = len(lista)\n",
    "print(val_len)\n",
    "\n",
    "while ban_2 == False:\n",
    "    \n",
    "    if(val_len == val_count_2):\n",
    "        break\n",
    "\n",
    "    if(lista[val_count_2] % 2 == 0):\n",
    "        print(f'El valor, {lista[val_count_2]} es par')\n",
    "\n",
    "    else:\n",
    "        print(f'El valor, {lista[val_count_2]} es impar')\n",
    "    \n",
    "    val_count_2+=1\n",
    "\n",
    "    \n",
    "    "
   ]
  },
  {
   "attachments": {},
   "cell_type": "markdown",
   "metadata": {},
   "source": [
    "3 Resolver el punto anterior sin utilizar un ciclo while"
   ]
  },
  {
   "cell_type": "code",
   "execution_count": 48,
   "metadata": {},
   "outputs": [
    {
     "name": "stdout",
     "output_type": "stream",
     "text": [
      "15\n",
      "el valor, -1 es impar\n",
      "el valor, -2 es par\n",
      "el valor, -3 es impar\n",
      "el valor, -4 es par\n",
      "el valor, -5 es impar\n",
      "el valor, -6 es par\n",
      "el valor, -7 es impar\n",
      "el valor, -8 es par\n",
      "el valor, -9 es impar\n",
      "el valor, -10 es par\n",
      "el valor, -11 es impar\n",
      "el valor, -12 es par\n",
      "el valor, -13 es impar\n",
      "el valor, -14 es par\n",
      "el valor, -15 es impar\n"
     ]
    }
   ],
   "source": [
    "# Usaremos variables de el ejersicio anterior\n",
    "len_3 = len(lista)\n",
    "print(len_3)\n",
    "\n",
    "for n in range (0,len_3):\n",
    "    if(lista[n]% 2 == 0):\n",
    "        print(f'el valor, {lista[n]} es par')\n",
    "\n",
    "    else:\n",
    "        print(f'el valor, {lista[n]} es impar')\n"
   ]
  },
  {
   "attachments": {},
   "cell_type": "markdown",
   "metadata": {},
   "source": [
    "Utilizar el iterable para recorrer sólo los primeros 3 elementos"
   ]
  },
  {
   "cell_type": "code",
   "execution_count": 59,
   "metadata": {},
   "outputs": [
    {
     "name": "stdout",
     "output_type": "stream",
     "text": [
      "-2\n",
      "-3\n"
     ]
    }
   ],
   "source": [
    "for elemento in lista[:3]: # De esta manera se hace referencia a solo 3 elementos\n",
    "    print(elemento)"
   ]
  },
  {
   "attachments": {},
   "cell_type": "markdown",
   "metadata": {},
   "source": [
    "Utilizar la función enumerate para obtener dentro del iterable, tambien el índice al que corresponde el elemento"
   ]
  },
  {
   "cell_type": "code",
   "execution_count": null,
   "metadata": {},
   "outputs": [],
   "source": [
    "\n",
    "words = 'Nobody bealives in you, you lost...'\n",
    "\n",
    "for indx, val in enumerate(words):\n",
    "    print(indx, val)\n",
    "    "
   ]
  },
  {
   "cell_type": "markdown",
   "metadata": {},
   "source": [
    "Dada la siguiente lista de números enteros entre 1 y 20, crear un ciclo donde se completen los valores faltantes: lista = [1,2,5,7,8,10,13,14,15,17,20]"
   ]
  },
  {
   "cell_type": "code",
   "execution_count": 77,
   "metadata": {},
   "outputs": [
    {
     "name": "stdout",
     "output_type": "stream",
     "text": [
      "[1, 2, 3, 4, 5, 6, 7, 8, 9, 10, 11, 12, 13, 14, 15, 16, 17, 18, 19, 20]\n"
     ]
    }
   ],
   "source": [
    "\n",
    "new_lista = [1,2,5,7,8,10,13,14,15,17,20]\n",
    "n = 1\n",
    "while(n <= 20):\n",
    "    if (not(n in new_lista)):\n",
    "        new_lista.insert((n-1), n)\n",
    "    n += 1\n",
    "print(new_lista)"
   ]
  },
  {
   "attachments": {},
   "cell_type": "markdown",
   "metadata": {},
   "source": [
    "La sucesión de Fibonacci es un listado de números que sigue la fórmula:\n",
    "n0 = 0\n",
    "n1 = 1S\n",
    "ni = ni-1 + ni-2\n"
   ]
  },
  {
   "cell_type": "markdown",
   "metadata": {},
   "source": []
  },
  {
   "cell_type": "code",
   "execution_count": 79,
   "metadata": {},
   "outputs": [
    {
     "name": "stdout",
     "output_type": "stream",
     "text": [
      "[0, 1, 1, 2, 3, 5, 8, 13, 21, 34, 55, 89, 144, 233, 377, 610, 987, 1597, 2584, 4181, 6765, 10946, 17711, 28657, 46368, 75025, 121393, 196418, 317811, 514229]\n"
     ]
    }
   ],
   "source": [
    "def fibonacci(n): #UUso de funciones\n",
    "    if n == 0:\n",
    "        return 0\n",
    "    elif n == 1:\n",
    "        return 1\n",
    "    else:\n",
    "        return fibonacci(n-1) + fibonacci(n-2) # En caso de cualquier otro numero es la sumatoria de: el mismo menos uno , mas el mismo menos dos\n",
    "    \n",
    "list_fibo = []\n",
    "\n",
    "for i in range(30): # Con el rango se controlara la cantidad de numeros de la serie\n",
    "    list_fibo.append(fibonacci(i)) \n",
    "    #Unicamente lo agragamos a una lista\n",
    "\n",
    "print(list_fibo)"
   ]
  },
  {
   "attachments": {},
   "cell_type": "markdown",
   "metadata": {},
   "source": [
    "Realizar la suma de todos elementos de la lista del punto anterior"
   ]
  },
  {
   "cell_type": "code",
   "execution_count": 80,
   "metadata": {},
   "outputs": [
    {
     "name": "stdout",
     "output_type": "stream",
     "text": [
      "1346268\n"
     ]
    }
   ],
   "source": [
    "print(sum(list_fibo))\n"
   ]
  },
  {
   "attachments": {},
   "cell_type": "markdown",
   "metadata": {},
   "source": [
    "La proporción aurea se expresa con una proporción matemática que nace el número irracional Phi= 1,618… que los griegos llamaron número áureo. El cuál se puede aproximar con la sucesión de Fibonacci. Con la lista del ejercicio anterior, imprimir el cociente de los últimos 5 pares de dos números contiguos:\n",
    "Donde i es la cantidad total de elementos\n",
    "ni-1 / ni\n",
    "ni-2 / ni-1\n",
    "ni-3 / ni-2\n",
    "ni-4 / ni-3\n",
    "ni-5 / ni-4"
   ]
  },
  {
   "cell_type": "code",
   "execution_count": 83,
   "metadata": {},
   "outputs": [
    {
     "name": "stdout",
     "output_type": "stream",
     "text": [
      "1.6666666666666667\n",
      "1.6\n",
      "1.625\n",
      "1.6153846153846154\n",
      "1.619047619047619\n"
     ]
    }
   ],
   "source": [
    "#Investigar mas al respecto, no comprendi de todo lo que se buscaba en este ejersicio\n",
    "primeros = 10\n",
    "n = primeros - 5\n",
    "while(n < primeros):\n",
    "    print(list_fibo[n]/list_fibo[n-1])\n",
    "    n += 1\n",
    "\n",
    "#Toma 15 - 5 = 10, entonces esta trabajando con la los de en medio que son 10 - 15, pero esto deberia funcionar con cualquier valor pj. se cambio el primeros\n",
    "# 15 por 30, para rectificar estos valores."
   ]
  },
  {
   "attachments": {},
   "cell_type": "markdown",
   "metadata": {},
   "source": [
    "A partir de la variable cadena ya dada, mostrar en qué posiciones aparece la letra \"n\"\n",
    "cadena = 'Hola Mundo. Esto es una practica del lenguaje de programación Python'"
   ]
  },
  {
   "cell_type": "code",
   "execution_count": 89,
   "metadata": {},
   "outputs": [
    {
     "name": "stdout",
     "output_type": "stream",
     "text": [
      "en el idx 7 se encuentra la letra n\n",
      "en el idx 21 se encuentra la letra n\n",
      "en el idx 39 se encuentra la letra n\n",
      "en el idx 60 se encuentra la letra n\n",
      "en el idx 67 se encuentra la letra n\n"
     ]
    }
   ],
   "source": [
    "cadena = 'Hola Mundo. Esto es una practica del lenguaje de programación Python'\n",
    "\n",
    "for i, c  in enumerate(cadena):\n",
    "    if(c == 'n'):\n",
    "        print(f'en el idx {i} se encuentra la letra n')\n",
    "    else:\n",
    "        continue"
   ]
  },
  {
   "attachments": {},
   "cell_type": "markdown",
   "metadata": {},
   "source": [
    "Crear un diccionario e imprimir sus claves utilizando un iterador"
   ]
  },
  {
   "cell_type": "code",
   "execution_count": 93,
   "metadata": {},
   "outputs": [
    {
     "name": "stdout",
     "output_type": "stream",
     "text": [
      "llavenuda\n",
      "llavenosa\n",
      "llavestrujaz\n"
     ]
    }
   ],
   "source": [
    "dictio = {\n",
    "'llavenuda': ['Hola','es', 'raro'],\n",
    "'llavenosa': ['volver','a','programar'],\n",
    "'llavestrujaz':['o','que','piensas']\n",
    "}\n",
    "\n",
    "for i in dictio:\n",
    "    print(i)"
   ]
  },
  {
   "attachments": {},
   "cell_type": "markdown",
   "metadata": {},
   "source": [
    "Convertir en una lista la variable \"cadena\" del punto 10 y luego recorrerla con un iterador"
   ]
  },
  {
   "cell_type": "code",
   "execution_count": 94,
   "metadata": {},
   "outputs": [
    {
     "name": "stdout",
     "output_type": "stream",
     "text": [
      "H\n",
      "o\n",
      "l\n",
      "a\n",
      " \n",
      "M\n",
      "u\n",
      "n\n",
      "d\n",
      "o\n",
      ".\n",
      " \n",
      "E\n",
      "s\n",
      "t\n",
      "o\n",
      " \n",
      "e\n",
      "s\n",
      " \n",
      "u\n",
      "n\n",
      "a\n",
      " \n",
      "p\n",
      "r\n",
      "a\n",
      "c\n",
      "t\n",
      "i\n",
      "c\n",
      "a\n",
      " \n",
      "d\n",
      "e\n",
      "l\n",
      " \n",
      "l\n",
      "e\n",
      "n\n",
      "g\n",
      "u\n",
      "a\n",
      "j\n",
      "e\n",
      " \n",
      "d\n",
      "e\n",
      " \n",
      "p\n",
      "r\n",
      "o\n",
      "g\n",
      "r\n",
      "a\n",
      "m\n",
      "a\n",
      "c\n",
      "i\n",
      "ó\n",
      "n\n",
      " \n",
      "P\n",
      "y\n",
      "t\n",
      "h\n",
      "o\n",
      "n\n"
     ]
    }
   ],
   "source": [
    "new_list_cadena = list(cadena)\n",
    "\n",
    "for i in cadena:\n",
    "    print(i)"
   ]
  },
  {
   "attachments": {},
   "cell_type": "markdown",
   "metadata": {},
   "source": [
    "Crear dos listas y unirlas en una tupla utilizando la función zip"
   ]
  },
  {
   "cell_type": "code",
   "execution_count": 96,
   "metadata": {},
   "outputs": [
    {
     "name": "stdout",
     "output_type": "stream",
     "text": [
      "(('Q', 'Q'), ('u', 'u'), ('e', 'e'), (' ', ' '), ('o', 'h'), ('n', 'a'), ('d', 'c'), ('a', 'e'))\n"
     ]
    }
   ],
   "source": [
    "list_1 = 'Que onda banda'\n",
    "list_2 = 'Que hace'\n",
    "\n",
    "tupla = tuple(zip(list_1,list_2))\n",
    "print(tupla)"
   ]
  },
  {
   "attachments": {},
   "cell_type": "markdown",
   "metadata": {},
   "source": [
    "A partir de la siguiente lista de números, crear una nueva sólo si el número es divisible por 7\n",
    "lis = [18,21,29,32,35,42,56,60,63,71,84,90,91,100]"
   ]
  },
  {
   "cell_type": "code",
   "execution_count": 103,
   "metadata": {},
   "outputs": [
    {
     "name": "stdout",
     "output_type": "stream",
     "text": [
      "[21, 35, 42, 56, 63, 84, 91]\n"
     ]
    }
   ],
   "source": [
    "lis = [18,21,29,32,35,42,56,60,63,71,84,90,91,100]\n",
    "lis_div = []\n",
    "\n",
    "for i in lis:\n",
    "   \n",
    "    if(i%7 == 0):\n",
    "        lis_div.append(i)\n",
    "    else:\n",
    "        continue\n",
    "print(lis_div)\n",
    "\n",
    "# lis2 = [i for i in lis if i % 7 == 0]\n",
    "# print(lis2)"
   ]
  },
  {
   "attachments": {},
   "cell_type": "markdown",
   "metadata": {},
   "source": [
    "A partir de la lista de a continuación, contar la cantidad total de elementos que contiene, teniendo en cuenta que un elemento de la lista podría ser otra lista:\n",
    "lis = [[1,2,3,4],'rojo','verde',[True,False,False],['uno','dos','tres']]"
   ]
  },
  {
   "cell_type": "code",
   "execution_count": 105,
   "metadata": {},
   "outputs": [
    {
     "name": "stdout",
     "output_type": "stream",
     "text": [
      "La lista contiene 12 elementos en total.\n"
     ]
    }
   ],
   "source": [
    "lis = [[1,2,3,4],'rojo','verde',[True,False,False],['uno','dos','tres']]\n",
    "\n",
    "contador = 0\n",
    "for elemento in lis:\n",
    "    if isinstance(elemento, list): # la funcion instancia comprueba si el elemento es una lista o no. averiguar que otros usos tiene\n",
    "        contador += len(elemento)\n",
    "    else:\n",
    "        contador += 1\n",
    "\n",
    "print(\"La lista contiene\", contador, \"elementos en total.\")"
   ]
  },
  {
   "attachments": {},
   "cell_type": "markdown",
   "metadata": {},
   "source": [
    "Tomar la lista del punto anterior y convertir cada elemento en una lista si no lo es\n",
    "\n"
   ]
  },
  {
   "cell_type": "code",
   "execution_count": 111,
   "metadata": {},
   "outputs": [
    {
     "name": "stdout",
     "output_type": "stream",
     "text": [
      "[[1, 2, 3, 4], ['rojo'], ['verde'], [True, False, False], ['uno', 'dos', 'tres']]\n"
     ]
    }
   ],
   "source": [
    "lis = [[1,2,3,4],'rojo','verde',[True,False,False],['uno','dos','tres']]\n",
    "new_list = []\n",
    "ban_conv = '' # bandera de conversion\n",
    "\n",
    "contador = 0\n",
    "for indice, elemento in enumerate(lis):\n",
    "    if not(isinstance(elemento, list)):\n",
    "        lis[indice] = [elemento]\n",
    "\n",
    "    else:\n",
    "        continue\n",
    "\n",
    "print(lis)"
   ]
  },
  {
   "cell_type": "code",
   "execution_count": 107,
   "metadata": {},
   "outputs": [
    {
     "name": "stdout",
     "output_type": "stream",
     "text": [
      "[[1, 2, 3, 4], ['rojo'], ['verde'], [True, False, False], ['uno', 'dos', 'tres']]\n"
     ]
    }
   ],
   "source": [
    "for indice, elemento in enumerate(lis):\n",
    "    if (type(elemento) != list):\n",
    "        lis[indice]=[elemento]\n",
    "print(lis)\n",
    "\n",
    "#Just to upload"
   ]
  },
  {
   "attachments": {},
   "cell_type": "markdown",
   "metadata": {},
   "source": [
    "\n",
    "\n",
    "\n",
    "Revisar, detenidamente los anteriores ejersicios, el ultimo me causo un poco de ruido:\n",
    "mas cambios\n",
    "\n",
    "\n"
   ]
  }
 ],
 "metadata": {
  "kernelspec": {
   "display_name": "Python 3",
   "language": "python",
   "name": "python3"
  },
  "language_info": {
   "codemirror_mode": {
    "name": "ipython",
    "version": 3
   },
   "file_extension": ".py",
   "mimetype": "text/x-python",
   "name": "python",
   "nbconvert_exporter": "python",
   "pygments_lexer": "ipython3",
   "version": "3.11.2"
  },
  "orig_nbformat": 4
 },
 "nbformat": 4,
 "nbformat_minor": 2
}
